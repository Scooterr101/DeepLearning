{
 "cells": [
  {
   "cell_type": "markdown",
   "id": "3b226650",
   "metadata": {},
   "source": [
    "### 교차 엔트로피 오차"
   ]
  },
  {
   "cell_type": "code",
   "execution_count": 8,
   "id": "16f0058e",
   "metadata": {},
   "outputs": [],
   "source": [
    "from IPython.display import Image\n",
    "import numpy as np"
   ]
  },
  {
   "cell_type": "code",
   "execution_count": 9,
   "id": "a88023fb",
   "metadata": {},
   "outputs": [
    {
     "data": {
      "image/png": "[encoded data removed]",
      "text/plain": [
       "<IPython.core.display.Image object>"
      ]
     },
     "execution_count": 9,
     "metadata": {
      "image/png": {
       "width": 200
      }
     },
     "output_type": "execute_result"
    }
   ],
   "source": [
    "Image(\"e 4.2.png\", width=200)"
   ]
  },
  {
   "cell_type": "code",
   "execution_count": 10,
   "id": "54cfb330",
   "metadata": {},
   "outputs": [],
   "source": [
    "def cross_entropy_error(y, t):\n",
    "    delta = 1e-7\n",
    "    return -np.sum(t* np.log(y + delta))"
   ]
  },
  {
   "cell_type": "code",
   "execution_count": 15,
   "id": "e82f2a94",
   "metadata": {},
   "outputs": [],
   "source": [
    "t = [0, 0, 1, 0, 0, 0, 0, 0, 0, 0]\n",
    "y = [0.1, 0.05, 0.6, 0.0, 0.05, 0.1, 0.0, 0.1, 0.0, 0.0]"
   ]
  },
  {
   "cell_type": "code",
   "execution_count": 16,
   "id": "224395e5",
   "metadata": {},
   "outputs": [
    {
     "data": {
      "text/plain": [
       "0.510825457099338"
      ]
     },
     "execution_count": 16,
     "metadata": {},
     "output_type": "execute_result"
    }
   ],
   "source": [
    "cross_entropy_error(np.array(y), np.array(t))"
   ]
  },
  {
   "cell_type": "code",
   "execution_count": 17,
   "id": "7ee212ef",
   "metadata": {},
   "outputs": [],
   "source": [
    "t = [0, 0, 1, 0, 0, 0, 0, 0, 0, 0]\n",
    "y = [0.1, 0.05, 0.1, 0.0, 0.05, 0.1, 0.0, 0.6, 0.0, 0.0]"
   ]
  },
  {
   "cell_type": "code",
   "execution_count": 18,
   "id": "f2a03194",
   "metadata": {},
   "outputs": [
    {
     "data": {
      "text/plain": [
       "2.302584092994546"
      ]
     },
     "execution_count": 18,
     "metadata": {},
     "output_type": "execute_result"
    }
   ],
   "source": [
    "cross_entropy_error(np.array(y), np.array(t))"
   ]
  },
  {
   "cell_type": "code",
   "execution_count": 20,
   "id": "ca075106",
   "metadata": {},
   "outputs": [
    {
     "data": {
      "image/png": "[encoded data removed]",
      "text/plain": [
       "<IPython.core.display.Image object>"
      ]
     },
     "execution_count": 20,
     "metadata": {
      "image/png": {
       "width": 300
      }
     },
     "output_type": "execute_result"
    }
   ],
   "source": [
    "Image(\"e 4.3.png\", width=300)"
   ]
  },
  {
   "cell_type": "code",
   "execution_count": 21,
   "id": "b847fee7",
   "metadata": {},
   "outputs": [],
   "source": [
    "# 실제 2차원 함수라고 가정을 하고 코드를 만들어야함\n",
    "\n",
    "def cross_entropy_error(y, t):\n",
    "    delta = 1e-7\n",
    "    # 맨 아랫줄이 2차원이니까 혹시 1차원이 나오지 않도록해주자\n",
    "    if y.ndim==1:\n",
    "        t = t.reshape(1, t.size)\n",
    "        y = y.reshape(1, y.size)\n",
    "        \n",
    "    batch_size = y.shape[0]\n",
    "    return -np.sum(t* np.log(y + delta))/ batch_size"
   ]
  },
  {
   "cell_type": "code",
   "execution_count": 22,
   "id": "d4b7e9ac",
   "metadata": {},
   "outputs": [
    {
     "data": {
      "text/plain": [
       "0.510825457099338"
      ]
     },
     "execution_count": 22,
     "metadata": {},
     "output_type": "execute_result"
    }
   ],
   "source": [
    "t = [0, 0, 1, 0, 0, 0, 0, 0, 0, 0]\n",
    "y = [0.1, 0.05, 0.6, 0.0, 0.05, 0.1, 0.0, 0.1, 0.0, 0.0]\n",
    "\n",
    "cross_entropy_error(np.array(y), np.array(t))"
   ]
  },
  {
   "cell_type": "code",
   "execution_count": 23,
   "id": "bc9763ba",
   "metadata": {},
   "outputs": [],
   "source": [
    "# 1차원을 넣어도 잘 나왔다"
   ]
  },
  {
   "cell_type": "markdown",
   "id": "fd3fdb45",
   "metadata": {},
   "source": [
    "#### 왜 손실함수를 설정하는가?\n",
    "\n",
    "1. 숫자 인식의 경우도 '정확도'를 끌어내는 매개변수를 찾는 것임\n",
    "2. 근데 왜 정확도가 아니라 손실함수 값이란 우회적인 방법을?\n",
    "3. 신경망 학습에서의 '미분'의 역할에서 찾을 수 있음\n",
    "4. 최적 매개변수를 탐색할 때 손실함수의 값을 가능한 한 작게 하는 매개 변수 값을 찾음\n",
    "5. 이때 매개변수의 미분(기울기) 계산, 그 미분 값을 단서로 매겨변수의 값을 서서히 갱신과정 반복\n",
    "6. 여기서 가중치 매개변수의 손실함수의 미분이란 '가중치 매개변수의 값을 아주 조금 변화시켰을 때, 손실함수가 어떻게 변하나'라는 의미"
   ]
  },
  {
   "cell_type": "markdown",
   "id": "7e4f6493",
   "metadata": {},
   "source": [
    "###### U 자의 그래프를 생각하면 됨\n",
    "\n",
    "1. 최저점(기울기 0)을 기준으로 왼쪽은 양의 방향으로 가면 손실함수 감소, 음의 방향으로 가면 손실함수 증가\n",
    "2. 최저점 기준 오른쪽은 위와 반대니까, 기울기가 0에 가까운 지점으로 수렴하며 움직인다고 생각하면 됨"
   ]
  },
  {
   "cell_type": "markdown",
   "id": "a1fde6f6",
   "metadata": {},
   "source": [
    "#### 이 기울기를 통해서 크기와 방향을 모두 구할 수 있음"
   ]
  },
  {
   "cell_type": "markdown",
   "id": "3e165f18",
   "metadata": {},
   "source": [
    "- 정확도는 그냥 맞은 갯수니까 매개변수 값을 바꿔도 바뀌지 않음\n",
    "- 그래서 정확도를 지표로 삼을 수 없음"
   ]
  },
  {
   "cell_type": "markdown",
   "id": "d69a9bbc",
   "metadata": {},
   "source": [
    "(바뀐다고 해도 불연속적, 연속적일 수 없고, 매개변수와 손실함수는 연속적으로 바뀜)\n",
    "그래서 계단함수도 하용할 수 없음"
   ]
  },
  {
   "cell_type": "markdown",
   "id": "e591e402",
   "metadata": {},
   "source": [
    "### 미분"
   ]
  },
  {
   "cell_type": "markdown",
   "id": "117f8169",
   "metadata": {},
   "source": [
    "y = 0.01x^2 + 0.1x"
   ]
  },
  {
   "cell_type": "code",
   "execution_count": 26,
   "id": "fa45e3e2",
   "metadata": {},
   "outputs": [],
   "source": [
    "import matplotlib.pylab as plt"
   ]
  },
  {
   "cell_type": "code",
   "execution_count": 28,
   "id": "ff64782b",
   "metadata": {},
   "outputs": [],
   "source": [
    "def function_1(x):\n",
    "    return 0.01*x**2 + 0.1*x"
   ]
  },
  {
   "cell_type": "code",
   "execution_count": 30,
   "id": "1db59148",
   "metadata": {},
   "outputs": [
    {
     "data": {
      "text/plain": [
       "[<matplotlib.lines.Line2D at 0x1f84c21ac10>]"
      ]
     },
     "execution_count": 30,
     "metadata": {},
     "output_type": "execute_result"
    },
    {
     "data": {
      "image/png": "[encoded data removed]",
      "text/plain": [
       "<Figure size 432x288 with 1 Axes>"
      ]
     },
     "metadata": {
      "needs_background": "light"
     },
     "output_type": "display_data"
    }
   ],
   "source": [
    "x = np.arange(0.0, 20.0, 0.1)\n",
    "y = function_1(x)\n",
    "plt.xlabel(\"X\")\n",
    "plt.ylabel(\"f(X)\")\n",
    "plt.plot(x, y)"
   ]
  },
  {
   "cell_type": "markdown",
   "id": "4bbc32d3",
   "metadata": {},
   "source": [
    "- 중앙 차분에 의한 수치 미분"
   ]
  },
  {
   "cell_type": "code",
   "execution_count": 39,
   "id": "ef4554d4",
   "metadata": {},
   "outputs": [],
   "source": [
    "def numerical_diff(f, x):\n",
    "    h = 1e-4\n",
    "    return (f(x+h) - f(x-h)) / (2*h)"
   ]
  },
  {
   "cell_type": "code",
   "execution_count": 40,
   "id": "b71b8dce",
   "metadata": {},
   "outputs": [
    {
     "data": {
      "text/plain": [
       "0.1999999999990898"
      ]
     },
     "execution_count": 40,
     "metadata": {},
     "output_type": "execute_result"
    }
   ],
   "source": [
    "numerical_diff(function_1, 5)"
   ]
  },
  {
   "cell_type": "code",
   "execution_count": 41,
   "id": "566b02c8",
   "metadata": {},
   "outputs": [],
   "source": [
    "a = numerical_diff(function_1, 5)"
   ]
  },
  {
   "cell_type": "code",
   "execution_count": 42,
   "id": "2fd387d9",
   "metadata": {},
   "outputs": [],
   "source": [
    "# 이제 5인 지점에서 접선을 한 번 그려보자"
   ]
  },
  {
   "cell_type": "code",
   "execution_count": 43,
   "id": "19d393bd",
   "metadata": {},
   "outputs": [],
   "source": [
    "# y = 2x + b\n",
    "# b = y - 2x"
   ]
  },
  {
   "cell_type": "code",
   "execution_count": 44,
   "id": "dd8ad042",
   "metadata": {},
   "outputs": [
    {
     "data": {
      "text/plain": [
       "[<matplotlib.lines.Line2D at 0x1f84c3b9d90>]"
      ]
     },
     "execution_count": 44,
     "metadata": {},
     "output_type": "execute_result"
    },
    {
     "data": {
      "image/png": "[encoded data removed]",
      "text/plain": [
       "<Figure size 432x288 with 1 Axes>"
      ]
     },
     "metadata": {
      "needs_background": "light"
     },
     "output_type": "display_data"
    }
   ],
   "source": [
    "x = np.arange(0.0, 20.0, 0.1)\n",
    "y = function_1(x)\n",
    "######\n",
    "b = function_1(5) - (a * 5)\n",
    "y2 = (a*x) + b\n",
    "\n",
    "######\n",
    "plt.xlabel(\"X\")\n",
    "plt.ylabel(\"f(X)\")\n",
    "plt.plot(x, y)\n",
    "plt.plot(x, y2)"
   ]
  },
  {
   "cell_type": "markdown",
   "id": "301c2997",
   "metadata": {},
   "source": [
    "- 그래디언트(편미분의 벡터)"
   ]
  },
  {
   "cell_type": "code",
   "execution_count": null,
   "id": "a19b4b74",
   "metadata": {},
   "outputs": [],
   "source": [
    "Image(\"e 4.6.png\", width=300)"
   ]
  },
  {
   "cell_type": "code",
   "execution_count": 47,
   "id": "c80ddeca",
   "metadata": {},
   "outputs": [],
   "source": [
    "def numerical_gradient(f, x):\n",
    "    h = 1e-4\n",
    "    grad = np.zeros_like(x)\n",
    "    \n",
    "    for idx in range(x.size):\n",
    "        tmp_val = x[idx]\n",
    "        x[idx] = tmp_val + h\n",
    "        fxh1 = f(x) # f(x+h)\n",
    "        \n",
    "        x[idx] = tmp_val - h\n",
    "        fxh2 = f(x) # f(x-h)\n",
    "        \n",
    "        grad[idx] = (fxh1 - fxh2) / (2*h)\n",
    "        x[idx] = tmp_val # 값 복원\n",
    "        \n",
    "    return grad"
   ]
  },
  {
   "cell_type": "code",
   "execution_count": 50,
   "id": "b13801e2",
   "metadata": {},
   "outputs": [],
   "source": [
    "def function_2(x):\n",
    "    return x[0]**2 + x[1]**2"
   ]
  },
  {
   "cell_type": "code",
   "execution_count": 51,
   "id": "cc398fd5",
   "metadata": {},
   "outputs": [
    {
     "data": {
      "text/plain": [
       "array([6., 8.])"
      ]
     },
     "execution_count": 51,
     "metadata": {},
     "output_type": "execute_result"
    }
   ],
   "source": [
    "numerical_gradient(function_2, np.array([3.0, 4.0]))"
   ]
  },
  {
   "cell_type": "markdown",
   "id": "9a30c29c",
   "metadata": {},
   "source": [
    "- 경사하강법"
   ]
  },
  {
   "cell_type": "code",
   "execution_count": null,
   "id": "36941933",
   "metadata": {},
   "outputs": [],
   "source": [
    "Image(\"e 4.7.png\", width=200)"
   ]
  },
  {
   "cell_type": "code",
   "execution_count": 55,
   "id": "a03a75d9",
   "metadata": {},
   "outputs": [],
   "source": [
    "def gradient_descent(f, init_x, lr=0.01, step_num=100):\n",
    "    x = init_x # 임의의 초기값\n",
    "    \n",
    "    for i in range(step_num):\n",
    "        grad = numerical_gradient(f, x)\n",
    "        x = x - (lr*grad)\n",
    "        print(x)\n",
    "    return x"
   ]
  },
  {
   "cell_type": "code",
   "execution_count": 56,
   "id": "0c09d6fd",
   "metadata": {
    "collapsed": true
   },
   "outputs": [
    {
     "name": "stdout",
     "output_type": "stream",
     "text": [
      "[-2.4  3.2]\n",
      "[-1.92  2.56]\n",
      "[-1.536  2.048]\n",
      "[-1.2288  1.6384]\n",
      "[-0.98304  1.31072]\n",
      "[-0.786432  1.048576]\n",
      "[-0.6291456  0.8388608]\n",
      "[-0.50331648  0.67108864]\n",
      "[-0.40265318  0.53687091]\n",
      "[-0.32212255  0.42949673]\n",
      "[-0.25769804  0.34359738]\n",
      "[-0.20615843  0.27487791]\n",
      "[-0.16492674  0.21990233]\n",
      "[-0.1319414   0.17592186]\n",
      "[-0.10555312  0.14073749]\n",
      "[-0.08444249  0.11258999]\n",
      "[-0.06755399  0.09007199]\n",
      "[-0.0540432   0.07205759]\n",
      "[-0.04323456  0.05764608]\n",
      "[-0.03458765  0.04611686]\n",
      "[-0.02767012  0.03689349]\n",
      "[-0.02213609  0.02951479]\n",
      "[-0.01770887  0.02361183]\n",
      "[-0.0141671   0.01888947]\n",
      "[-0.01133368  0.01511157]\n",
      "[-0.00906694  0.01208926]\n",
      "[-0.00725355  0.00967141]\n",
      "[-0.00580284  0.00773713]\n",
      "[-0.00464228  0.0061897 ]\n",
      "[-0.00371382  0.00495176]\n",
      "[-0.00297106  0.00396141]\n",
      "[-0.00237684  0.00316913]\n",
      "[-0.00190148  0.0025353 ]\n",
      "[-0.00152118  0.00202824]\n",
      "[-0.00121694  0.00162259]\n",
      "[-0.00097356  0.00129807]\n",
      "[-0.00077884  0.00103846]\n",
      "[-0.00062308  0.00083077]\n",
      "[-0.00049846  0.00066461]\n",
      "[-0.00039877  0.00053169]\n",
      "[-0.00031901  0.00042535]\n",
      "[-0.00025521  0.00034028]\n",
      "[-0.00020417  0.00027223]\n",
      "[-0.00016334  0.00021778]\n",
      "[-0.00013067  0.00017422]\n",
      "[-0.00010453  0.00013938]\n",
      "[-8.36277945e-05  1.11503726e-04]\n",
      "[-6.69022356e-05  8.92029808e-05]\n",
      "[-5.35217885e-05  7.13623846e-05]\n",
      "[-4.28174308e-05  5.70899077e-05]\n",
      "[-3.42539446e-05  4.56719262e-05]\n",
      "[-2.74031557e-05  3.65375409e-05]\n",
      "[-2.19225246e-05  2.92300327e-05]\n",
      "[-1.75380196e-05  2.33840262e-05]\n",
      "[-1.40304157e-05  1.87072210e-05]\n",
      "[-1.12243326e-05  1.49657768e-05]\n",
      "[-8.97946606e-06  1.19726214e-05]\n",
      "[-7.18357285e-06  9.57809713e-06]\n",
      "[-5.74685828e-06  7.66247770e-06]\n",
      "[-4.59748662e-06  6.12998216e-06]\n",
      "[-3.67798930e-06  4.90398573e-06]\n",
      "[-2.94239144e-06  3.92318858e-06]\n",
      "[-2.35391315e-06  3.13855087e-06]\n",
      "[-1.88313052e-06  2.51084069e-06]\n",
      "[-1.50650442e-06  2.00867256e-06]\n",
      "[-1.20520353e-06  1.60693804e-06]\n",
      "[-9.64162827e-07  1.28555044e-06]\n",
      "[-7.71330261e-07  1.02844035e-06]\n",
      "[-6.17064209e-07  8.22752279e-07]\n",
      "[-4.93651367e-07  6.58201823e-07]\n",
      "[-3.94921094e-07  5.26561458e-07]\n",
      "[-3.15936875e-07  4.21249167e-07]\n",
      "[-2.52749500e-07  3.36999333e-07]\n",
      "[-2.02199600e-07  2.69599467e-07]\n",
      "[-1.61759680e-07  2.15679573e-07]\n",
      "[-1.29407744e-07  1.72543659e-07]\n",
      "[-1.03526195e-07  1.38034927e-07]\n",
      "[-8.28209562e-08  1.10427942e-07]\n",
      "[-6.62567649e-08  8.83423532e-08]\n",
      "[-5.30054119e-08  7.06738826e-08]\n",
      "[-4.24043296e-08  5.65391061e-08]\n",
      "[-3.39234636e-08  4.52312849e-08]\n",
      "[-2.71387709e-08  3.61850279e-08]\n",
      "[-2.17110167e-08  2.89480223e-08]\n",
      "[-1.73688134e-08  2.31584178e-08]\n",
      "[-1.38950507e-08  1.85267343e-08]\n",
      "[-1.11160406e-08  1.48213874e-08]\n",
      "[-8.89283245e-09  1.18571099e-08]\n",
      "[-7.11426596e-09  9.48568795e-09]\n",
      "[-5.69141277e-09  7.58855036e-09]\n",
      "[-4.55313022e-09  6.07084029e-09]\n",
      "[-3.64250417e-09  4.85667223e-09]\n",
      "[-2.91400334e-09  3.88533778e-09]\n",
      "[-2.33120267e-09  3.10827023e-09]\n",
      "[-1.86496214e-09  2.48661618e-09]\n",
      "[-1.49196971e-09  1.98929295e-09]\n",
      "[-1.19357577e-09  1.59143436e-09]\n",
      "[-9.54860614e-10  1.27314749e-09]\n",
      "[-7.63888491e-10  1.01851799e-09]\n",
      "[-6.11110793e-10  8.14814391e-10]\n"
     ]
    },
    {
     "data": {
      "text/plain": [
       "array([-6.11110793e-10,  8.14814391e-10])"
      ]
     },
     "execution_count": 56,
     "metadata": {},
     "output_type": "execute_result"
    }
   ],
   "source": [
    "init_x = np.array([-3.0, 4.0]) # 임의의 지점 지정\n",
    "gradient_descent(function_2, init_x = init_x, lr=0.1, step_num=100)"
   ]
  },
  {
   "cell_type": "code",
   "execution_count": 58,
   "id": "0c7dd2c0",
   "metadata": {},
   "outputs": [],
   "source": [
    "# 계속 최저점으로 가는 중\n",
    "# array([-6.11110793e-10,  8.14814391e-10]) 이게 최저점"
   ]
  },
  {
   "cell_type": "markdown",
   "id": "19d5a340",
   "metadata": {},
   "source": [
    "- 신경망에서의 기울기"
   ]
  },
  {
   "cell_type": "code",
   "execution_count": 59,
   "id": "07297adf",
   "metadata": {},
   "outputs": [],
   "source": [
    "def numerical_gradient(f, x):\n",
    "    h = 1e-4 # 0.0001\n",
    "    grad = np.zeros_like(x)\n",
    "    \n",
    "    it = np.nditer(x, flags=['multi_index'], op_flags=['readwrite'])\n",
    "    while not it.finished:\n",
    "        idx = it.multi_index\n",
    "        tmp_val = x[idx]\n",
    "        x[idx] = float(tmp_val) + h\n",
    "        fxh1 = f(x) # f(x+h)\n",
    "        \n",
    "        x[idx] = tmp_val - h \n",
    "        fxh2 = f(x) # f(x-h)\n",
    "        grad[idx] = (fxh1 - fxh2) / (2*h)\n",
    "        \n",
    "        x[idx] = tmp_val # 값 복원\n",
    "        it.iternext()   \n",
    "        \n",
    "    return grad"
   ]
  },
  {
   "cell_type": "code",
   "execution_count": 61,
   "id": "07f9955c",
   "metadata": {},
   "outputs": [],
   "source": [
    "def softmax(a):\n",
    "    c = np.max(a)\n",
    "    exp_a = np.exp(a-c)\n",
    "    sum_exp_a = np.sum(exp_a)\n",
    "    y  = exp_a / sum_exp_a\n",
    "    \n",
    "    return y"
   ]
  },
  {
   "cell_type": "code",
   "execution_count": 66,
   "id": "1751355e",
   "metadata": {},
   "outputs": [],
   "source": [
    "class simpleNet:\n",
    "    def __init__(self):\n",
    "        self.W = np.random.randn(2, 3) # 정규분포로 초기화\n",
    "        \n",
    "    def predict(self, x):\n",
    "        return np.dot(x, self.W)\n",
    "    \n",
    "    def loss(self, x, t):\n",
    "        z = self.predict(x)\n",
    "        y = softmax(z)\n",
    "        loss = cross_entropy_error(y, t)\n",
    "        return loss"
   ]
  },
  {
   "cell_type": "code",
   "execution_count": 67,
   "id": "a0c33aca",
   "metadata": {},
   "outputs": [],
   "source": [
    "x = np.array([0.6, 0.9])\n",
    "t = np.array([0, 0, 1])\n",
    "\n",
    "net = simpleNet()\n",
    "f = lambda w: net.loss(x, t)\n",
    "dw = numerical_gradient(f, net.W)"
   ]
  },
  {
   "cell_type": "code",
   "execution_count": 70,
   "id": "6d3440b7",
   "metadata": {},
   "outputs": [
    {
     "data": {
      "text/plain": [
       "array([[-0.56702216, -0.01523594, -0.84362911],\n",
       "       [ 0.50779158,  0.26153632, -0.74953022]])"
      ]
     },
     "execution_count": 70,
     "metadata": {},
     "output_type": "execute_result"
    }
   ],
   "source": [
    "net.W # 처음에 랜덤하게 임의 설정한 가중치"
   ]
  },
  {
   "cell_type": "code",
   "execution_count": 71,
   "id": "facc1055",
   "metadata": {},
   "outputs": [
    {
     "data": {
      "text/plain": [
       "array([[ 0.25116617,  0.28021489, -0.53138106],\n",
       "       [ 0.37674926,  0.42032233, -0.79707159]])"
      ]
     },
     "execution_count": 71,
     "metadata": {},
     "output_type": "execute_result"
    }
   ],
   "source": [
    "dw # 기울기 벡터(아직 좋아지진 않음)"
   ]
  },
  {
   "cell_type": "code",
   "execution_count": null,
   "id": "cf5227bc",
   "metadata": {},
   "outputs": [],
   "source": []
  }
 ],
 "metadata": {
  "kernelspec": {
   "display_name": "Python 3",
   "language": "python",
   "name": "python3"
  },
  "language_info": {
   "codemirror_mode": {
    "name": "ipython",
    "version": 3
   },
   "file_extension": ".py",
   "mimetype": "text/x-python",
   "name": "python",
   "nbconvert_exporter": "python",
   "pygments_lexer": "ipython3",
   "version": "3.8.8"
  }
 },
 "nbformat": 4,
 "nbformat_minor": 5
}
