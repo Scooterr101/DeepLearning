{
 "cells": [
  {
   "cell_type": "markdown",
   "id": "3b226650",
   "metadata": {},
   "source": [
    "### 교차 엔트로피 오차"
   ]
  },
  {
   "cell_type": "code",
   "execution_count": 1,
   "id": "16f0058e",
   "metadata": {},
   "outputs": [],
   "source": [
    "from IPython.display import Image\n",
    "import numpy as np\n",
    "from dataset.mnist import load_mnist"
   ]
  },
  {
   "cell_type": "code",
   "execution_count": 2,
   "id": "54cfb330",
   "metadata": {},
   "outputs": [],
   "source": [
    "def cross_entropy_error(y, t):\n",
    "    delta = 1e-7\n",
    "    return -np.sum(t* np.log(y + delta))"
   ]
  },
  {
   "cell_type": "code",
   "execution_count": 3,
   "id": "b847fee7",
   "metadata": {},
   "outputs": [],
   "source": [
    "# 실제 2차원 함수라고 가정을 하고 코드를 만들어야함\n",
    "\n",
    "def cross_entropy_error(y, t):\n",
    "    delta = 1e-7\n",
    "    # 맨 아랫줄이 2차원이니까 혹시 1차원이 나오지 않도록해주자\n",
    "    if y.ndim==1:\n",
    "        t = t.reshape(1, t.size)\n",
    "        y = y.reshape(1, y.size)\n",
    "        \n",
    "    batch_size = y.shape[0]\n",
    "    return -np.sum(t* np.log(y + delta))/ batch_size"
   ]
  },
  {
   "cell_type": "markdown",
   "id": "e591e402",
   "metadata": {},
   "source": [
    "### 미분"
   ]
  },
  {
   "cell_type": "markdown",
   "id": "117f8169",
   "metadata": {},
   "source": [
    "y = 0.01x^2 + 0.1x"
   ]
  },
  {
   "cell_type": "code",
   "execution_count": 4,
   "id": "fa45e3e2",
   "metadata": {},
   "outputs": [],
   "source": [
    "import matplotlib.pylab as plt"
   ]
  },
  {
   "cell_type": "code",
   "execution_count": 5,
   "id": "ff64782b",
   "metadata": {},
   "outputs": [],
   "source": [
    "def function_1(x):\n",
    "    return 0.01*x**2 + 0.1*x"
   ]
  },
  {
   "cell_type": "raw",
   "id": "f43d3335",
   "metadata": {},
   "source": [
    "- 중앙 차분에 의한 수치 미분"
   ]
  },
  {
   "cell_type": "code",
   "execution_count": 6,
   "id": "ef4554d4",
   "metadata": {},
   "outputs": [],
   "source": [
    "def numerical_diff(f, x):\n",
    "    h = 1e-4\n",
    "    return (f(x+h) - f(x-h)) / (2*h)"
   ]
  },
  {
   "cell_type": "markdown",
   "id": "301c2997",
   "metadata": {},
   "source": [
    "- 그래디언트(편미분의 벡터)"
   ]
  },
  {
   "cell_type": "code",
   "execution_count": 7,
   "id": "b13801e2",
   "metadata": {},
   "outputs": [],
   "source": [
    "def function_2(x):\n",
    "    return x[0]**2 + x[1]**2"
   ]
  },
  {
   "cell_type": "markdown",
   "id": "9a30c29c",
   "metadata": {},
   "source": [
    "- 경사하강법"
   ]
  },
  {
   "cell_type": "code",
   "execution_count": 8,
   "id": "a03a75d9",
   "metadata": {},
   "outputs": [],
   "source": [
    "def gradient_descent(f, init_x, lr=0.01, step_num=100):\n",
    "    x = init_x # 임의의 초기값\n",
    "    \n",
    "    for i in range(step_num):\n",
    "        grad = numerical_gradient(f, x)\n",
    "        x = x - (lr*grad)\n",
    "        print(x)\n",
    "    return x"
   ]
  },
  {
   "cell_type": "markdown",
   "id": "19d5a340",
   "metadata": {},
   "source": [
    "- 신경망에서의 기울기"
   ]
  },
  {
   "cell_type": "code",
   "execution_count": 9,
   "id": "07297adf",
   "metadata": {},
   "outputs": [],
   "source": [
    "def numerical_gradient(f, x):\n",
    "    h = 1e-4 # 0.0001\n",
    "    grad = np.zeros_like(x)\n",
    "    \n",
    "    it = np.nditer(x, flags=['multi_index'], op_flags=['readwrite'])\n",
    "    while not it.finished:\n",
    "        idx = it.multi_index\n",
    "        tmp_val = x[idx]\n",
    "        x[idx] = float(tmp_val) + h\n",
    "        fxh1 = f(x) # f(x+h)\n",
    "        \n",
    "        x[idx] = tmp_val - h \n",
    "        fxh2 = f(x) # f(x-h)\n",
    "        grad[idx] = (fxh1 - fxh2) / (2*h)\n",
    "        \n",
    "        x[idx] = tmp_val # 값 복원\n",
    "        it.iternext()   \n",
    "        \n",
    "    return grad"
   ]
  },
  {
   "cell_type": "code",
   "execution_count": 10,
   "id": "07f9955c",
   "metadata": {},
   "outputs": [],
   "source": [
    "def softmax(x):\n",
    "    if x.ndim == 2:\n",
    "        x = x.T\n",
    "        x = x - np.max(x, axis=0)\n",
    "        y = np.exp(x) / np.sum(np.exp(x), axis=0)\n",
    "        return y.T \n",
    "\n",
    "    x = x - np.max(x) # 오버플로 대책\n",
    "    return np.exp(x) / np.sum(np.exp(x))"
   ]
  },
  {
   "cell_type": "code",
   "execution_count": 11,
   "id": "1751355e",
   "metadata": {},
   "outputs": [],
   "source": [
    "class simpleNet:\n",
    "    def __init__(self):\n",
    "        self.W = np.random.randn(2, 3) # 정규분포로 초기화\n",
    "        \n",
    "    def predict(self, x):\n",
    "        return np.dot(x, self.W)\n",
    "    \n",
    "    def loss(self, x, t):\n",
    "        z = self.predict(x)\n",
    "        y = softmax(z)\n",
    "        loss = cross_entropy_error(y, t)\n",
    "        return loss"
   ]
  },
  {
   "cell_type": "code",
   "execution_count": 12,
   "id": "cf5227bc",
   "metadata": {},
   "outputs": [],
   "source": [
    "def sigmoid(x):\n",
    "    return 1 / (1 + np.exp(-x))"
   ]
  },
  {
   "cell_type": "markdown",
   "id": "dc8a365e",
   "metadata": {},
   "source": [
    "- 2층 신경망 구현하기"
   ]
  },
  {
   "cell_type": "code",
   "execution_count": 13,
   "id": "e4679ba7",
   "metadata": {},
   "outputs": [],
   "source": [
    "class TwoLayerNet:\n",
    "    def __init__(self, input_size, hidden_size, output_size, weight_init_std=0.01):\n",
    "        # 가중치 초기화\n",
    "        self.params = {}\n",
    "        self.params['W1'] = weight_init_std * np.random.randn(input_size, hidden_size)\n",
    "        self.params['b1'] = np.zeros(hidden_size)\n",
    "        self.params['W2'] = weight_init_std * np.random.randn(hidden_size, output_size)\n",
    "        self.params['b2'] = np.zeros(output_size)\n",
    "        \n",
    "    \n",
    "    def predict(self, x):\n",
    "        # 예측 구하기 (가중치의 합 => 시그모이드 통과 => 가중치의 합 => 소프트맥스 통과)\n",
    "        W1, W2 = self.params['W1'], self.params['W2']\n",
    "        b1, b2 = self.params['b1'], self.params['b2']\n",
    "        \n",
    "        a1 = np.dot(x, W1) + b1\n",
    "        z1 = sigmoid(a1)\n",
    "        \n",
    "        a2 = np.dot(z1, W2) + b2\n",
    "        y = softmax(a2)\n",
    "        \n",
    "        return y\n",
    "    \n",
    "    def loss(self, x, t):\n",
    "        # 손실(비용)함수의 결과 구하기\n",
    "        y = self.predict(x)\n",
    "        \n",
    "        return cross_entropy_error(y, t)\n",
    "    \n",
    "    def numerical_gradient(self, x, t):\n",
    "        # loss값을 가져와서 그레디언트(편미분의 벡터) 구하기\n",
    "        loss_W = lambda W : self.loss(x, t)\n",
    "        \n",
    "        grads = {}\n",
    "        \n",
    "        grads['W1'] = numerical_gradient(loss_W, self.params['W1'])\n",
    "        grads['b1'] = numerical_gradient(loss_W, self.params['b1'])\n",
    "        grads['W2'] = numerical_gradient(loss_W, self.params['W2'])\n",
    "        grads['b2'] = numerical_gradient(loss_W, self.params['b2'])\n",
    "        \n",
    "        return grads\n",
    "    \n",
    "    # def gradient()"
   ]
  },
  {
   "cell_type": "code",
   "execution_count": 14,
   "id": "04670823",
   "metadata": {},
   "outputs": [],
   "source": [
    "# 데이터를 로드하고 트레인 하고 예측해보자\n",
    "\n",
    "(x_train, t_train), (x_test, t_test) = load_mnist(normalize=True, one_hot_label=True)"
   ]
  },
  {
   "cell_type": "code",
   "execution_count": 15,
   "id": "d5879793",
   "metadata": {},
   "outputs": [],
   "source": [
    "network = TwoLayerNet(input_size=784, hidden_size=50, output_size=10) # 인풋아웃풋은 MNIST에 정해져있음"
   ]
  },
  {
   "cell_type": "code",
   "execution_count": 20,
   "id": "2f04f2e8",
   "metadata": {},
   "outputs": [],
   "source": [
    "# 하이퍼 파라미터 설정\n",
    "iters_num = 10\n",
    "train_size = x_train.shape[0]\n",
    "batch_size = 100\n",
    "learning_rate = 0.1"
   ]
  },
  {
   "cell_type": "code",
   "execution_count": 21,
   "id": "4ab71102",
   "metadata": {},
   "outputs": [
    {
     "name": "stdout",
     "output_type": "stream",
     "text": [
      "0 2.288221612889668\n",
      "1 2.2851582617870094\n",
      "2 2.283489557517339\n",
      "3 2.272522743214133\n",
      "4 2.2591304301882467\n",
      "5 2.3033296214220726\n",
      "6 2.2576161634316847\n",
      "7 2.297612903327835\n",
      "8 2.281177840100554\n",
      "9 2.2673175674924972\n"
     ]
    }
   ],
   "source": [
    "train_loss_list = []\n",
    "\n",
    "for i in range(iters_num): # 만번을 돌리면서 경사하강법 진행\n",
    "    batch_mask = np.random.choice(train_size, batch_size)\n",
    "    x_batch = x_train[batch_mask]\n",
    "    t_batch = t_train[batch_mask]\n",
    "    grad = network.numerical_gradient(x_batch, t_batch)\n",
    "    \n",
    "    for key in ('W1', 'b1', 'W2', 'b2'):\n",
    "        network.params[key] = network.params[key] - (learning_rate * grad[key])\n",
    "        \n",
    "    loss = network.loss(x_batch, t_batch)\n",
    "    train_loss_list.append(loss)\n",
    "    \n",
    "    print(i, loss)"
   ]
  },
  {
   "cell_type": "code",
   "execution_count": 22,
   "id": "3e24b9dc",
   "metadata": {},
   "outputs": [],
   "source": [
    "# 강사님 주신 코드는 따로 진행해 볼 것"
   ]
  },
  {
   "cell_type": "code",
   "execution_count": null,
   "id": "114b1c35",
   "metadata": {},
   "outputs": [],
   "source": []
  }
 ],
 "metadata": {
  "kernelspec": {
   "display_name": "Python 3",
   "language": "python",
   "name": "python3"
  },
  "language_info": {
   "codemirror_mode": {
    "name": "ipython",
    "version": 3
   },
   "file_extension": ".py",
   "mimetype": "text/x-python",
   "name": "python",
   "nbconvert_exporter": "python",
   "pygments_lexer": "ipython3",
   "version": "3.8.8"
  }
 },
 "nbformat": 4,
 "nbformat_minor": 5
}
